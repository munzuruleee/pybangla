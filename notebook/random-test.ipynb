{
 "cells": [
  {
   "cell_type": "code",
   "execution_count": 1,
   "metadata": {},
   "outputs": [],
   "source": [
    "import sys\n",
    "from pathlib import Path\n",
    "sys.path[0] = str(Path(\"/home/ud0y/Documents/pybangla\"))"
   ]
  },
  {
   "cell_type": "code",
   "execution_count": 2,
   "metadata": {},
   "outputs": [
    {
     "name": "stderr",
     "output_type": "stream",
     "text": [
      "/home/ud0y/miniconda3/lib/python3.10/site-packages/fuzzywuzzy/fuzz.py:11: UserWarning: Using slow pure-python SequenceMatcher. Install python-Levenshtein to remove this warning\n",
      "  warnings.warn('Using slow pure-python SequenceMatcher. Install python-Levenshtein to remove this warning')\n"
     ]
    }
   ],
   "source": [
    "from pybangla.module import parser\n",
    "import pybangla.module.main as pybangla\n",
    "nrml = pybangla.Normalizer()"
   ]
  },
  {
   "cell_type": "code",
   "execution_count": 3,
   "metadata": {},
   "outputs": [
    {
     "name": "stdout",
     "output_type": "stream",
     "text": [
      "Input: রাহিম ক্লাস ওয়ান এ ১ম, এন্ড বাসার ক্লাস এ ৩৩ তম, সে জন্য ২০৩০ শতাব্দীতে ¥২০৩০.১২৩৪ দিতে হয়েছে \n",
      "Output রাহিম ক্লাস ওয়ান এ প্রথম, এন্ড বাসার ক্লাস এ তেত্রিশতম, সে জন্য দুই হাজার ত্রিশ শতাব্দীতে দুই হাজার ত্রিশ দশমিক এক দুই তিন চার ইয়েন দিতে হয়েছে\n"
     ]
    }
   ],
   "source": [
    "import pybangla.module.main as pybangla\n",
    "nrml = pybangla.Normalizer()\n",
    "\n",
    "text = \"রাহিম ক্লাস ওয়ান এ ১ম, এন্ড বাসার ক্লাস এ ৩৩ তম, সে জন্য ২০৩০ শতাব্দীতে ¥২০৩০.১২৩৪ দিতে হয়েছে\"\n",
    "print(f\"Input: {text} \\nOutput {nrml.text_normalizer(text)}\")"
   ]
  },
  {
   "cell_type": "code",
   "execution_count": 4,
   "metadata": {},
   "outputs": [
    {
     "name": "stdout",
     "output_type": "stream",
     "text": [
      "পাঁচ বিভাগে আটচল্লিশ ঘণ্টার তাপপ্রবাহের সতর্কবার্তা\n"
     ]
    }
   ],
   "source": [
    "text = \"পাঁচ বিভাগে ৪৮ ঘণ্টার তাপপ্রবাহের সতর্কবার্তা\"\n",
    "text = nrml.text_normalizer(text)\n",
    "print(f\"{text}\")"
   ]
  },
  {
   "cell_type": "code",
   "execution_count": 5,
   "metadata": {},
   "outputs": [
    {
     "name": "stdout",
     "output_type": "stream",
     "text": [
      "চুয়াল্লিশতম বিসিএসের লিখিত পরীক্ষায় উত্তীর্ণ হয়েছেন এগারো হাজার সাত শত বত্রিশ জন। এসব প্রার্থীর মৌখিক পরীক্ষা শুরু হয়েছে আট মে থেকে।\n"
     ]
    }
   ],
   "source": [
    "text = \"৪৪তম বিসিএসের লিখিত পরীক্ষায় উত্তীর্ণ হয়েছেন ১১ হাজার ৭৩২ জন। এসব প্রার্থীর মৌখিক পরীক্ষা শুরু হয়েছে ৮ মে থেকে।\"\n",
    "text = nrml.text_normalizer(text)\n",
    "print(f\"{text}\")"
   ]
  },
  {
   "cell_type": "code",
   "execution_count": 6,
   "metadata": {},
   "outputs": [
    {
     "name": "stdout",
     "output_type": "stream",
     "text": [
      "যেকোনো সংযত শালীন এবং সাবলীল পোশাকে থাকার চেষ্টা করাই সংগত। বিশেষ রঙের পোশাক বা জুতা ব্যবহার করতেই হবে এমন বাধ্যবাধকতা সরকারি চাকরিপ্রার্থীদের ক্ষেত্রে নেই।\n"
     ]
    }
   ],
   "source": [
    "text = \"যেকোনো সংযত শালীন এবং সাবলীল পোশাকে থাকার চেষ্টা করাই সংগত।বিশেষ রঙের পোশাক বা জুতা ব্যবহার করতেই হবে—এমন বাধ্যবাধকতা সরকারি চাকরিপ্রার্থীদের ক্ষেত্রে নেই।\"\n",
    "text = nrml.text_normalizer(text)\n",
    "print(f\"{text}\")"
   ]
  },
  {
   "cell_type": "code",
   "execution_count": 7,
   "metadata": {},
   "outputs": [
    {
     "name": "stdout",
     "output_type": "stream",
     "text": [
      "Input: ‘আমি বাংলাদেশের হয়েই খেলব, এটা নিশ্চিত’, প্রথম আলোকে বললেন হামজা চৌধুরী \n",
      "Output আমি বাংলাদেশের হয়েই খেলব, এটা নিশ্চিত , প্রথম আলোকে বললেন হামজা চৌধুরী\n"
     ]
    }
   ],
   "source": [
    "text = \"‘আমি বাংলাদেশের হয়েই খেলব, এটা নিশ্চিত’, প্রথম আলোকে বললেন হামজা চৌধুরী\"\n",
    "print(f\"Input: {text} \\nOutput {nrml.text_normalizer(text)}\")"
   ]
  },
  {
   "cell_type": "code",
   "execution_count": 8,
   "metadata": {},
   "outputs": [
    {
     "name": "stdout",
     "output_type": "stream",
     "text": [
      "Input: নতুন নীতিমালায় ২০২৬-২৭ অর্থবছরে দেশের রপ্তানি আয় ১১ হাজার কোটি মার্কিন ডলারে উন্নীত করার ১৯৯৫ সালে লক্ষ্যমাত্রা নির্ধারণ করা হয়েছে।  \n",
      "Output নতুন নীতিমালায় দুই হাজার ছাব্বিশ সাতাশ অর্থবছরে দেশের রপ্তানি আয় এগারো হাজার কোটি মার্কিন ডলারে উন্নীত করার উনিশশো পঁচানব্বই সালে লক্ষ্যমাত্রা নির্ধারণ করা হয়েছে।\n"
     ]
    }
   ],
   "source": [
    "text = \"নতুন নীতিমালায় ২০২৬-২৭ অর্থবছরে দেশের রপ্তানি আয় ১১ হাজার কোটি মার্কিন ডলারে উন্নীত করার ১৯৯৫ সালে লক্ষ্যমাত্রা নির্ধারণ করা হয়েছে। \"\n",
    "print(f\"Input: {text} \\nOutput {nrml.text_normalizer(text)}\")"
   ]
  },
  {
   "cell_type": "code",
   "execution_count": 9,
   "metadata": {},
   "outputs": [
    {
     "name": "stdout",
     "output_type": "stream",
     "text": [
      "Input: \"ধর্ম মন্ত্রী বলেছেন তদন্ত করা হবে, 100 বছরে ও মনে হয় তদন্ত শেষ হবে না।\" \n",
      "Output \"ধর্ম মন্ত্রী বলেছেন তদন্ত করা হবে, এক শত বছরে ও মনে হয় তদন্ত শেষ হবে না।\n"
     ]
    }
   ],
   "source": [
    "text = '\"ধর্ম মন্ত্রী বলেছেন তদন্ত করা হবে, 100 বছরে ও মনে হয় তদন্ত শেষ হবে না।\"'\n",
    "print(f\"Input: {text} \\nOutput {nrml.text_normalizer(text)}\")"
   ]
  },
  {
   "cell_type": "code",
   "execution_count": 10,
   "metadata": {},
   "outputs": [
    {
     "name": "stdout",
     "output_type": "stream",
     "text": [
      "Input: সে যা-ই হোক, সত্যিকারের এমন পাকা পোনা শেষ বার নেমন্তন্ন বাড়িতে খেয়েছি ১৯৮৭-র এপ্রিলে। \n",
      "Output সে যা ই হোক, সত্যিকারের এমন পাকা পোনা শেষ বার নেমন্তন্ন বাড়িতে খেয়েছি উনিশশো সাতাশি এর এপ্রিলে।\n"
     ]
    }
   ],
   "source": [
    "text = \"সে যা-ই হোক, সত্যিকারের এমন পাকা পোনা শেষ বার নেমন্তন্ন বাড়িতে খেয়েছি ১৯৮৭-র এপ্রিলে।\"\n",
    "print(f\"Input: {text} \\nOutput {nrml.text_normalizer(text)}\")"
   ]
  },
  {
   "cell_type": "code",
   "execution_count": 11,
   "metadata": {},
   "outputs": [
    {
     "name": "stdout",
     "output_type": "stream",
     "text": [
      "Input: সে যা-ই হোক, বিডিতে এখন আর থাকা সম্ভব না।। \n",
      "Output সে যা ই হোক, বিডিতে এখন আর থাকা সম্ভব না।\n"
     ]
    }
   ],
   "source": [
    "text = \"সে যা-ই হোক, বিডিতে এখন আর থাকা সম্ভব না।।\"\n",
    "print(f\"Input: {text} \\nOutput {nrml.text_normalizer(text)}\")"
   ]
  },
  {
   "cell_type": "code",
   "execution_count": 12,
   "metadata": {},
   "outputs": [
    {
     "name": "stdout",
     "output_type": "stream",
     "text": [
      "Input: ইসলাম রয়ে গেল। আল্লাহ পবিত্র কুরআনে বলেছেন ''ওয়ামা কারো ওয়ামাকারাল্লাহ'' আল্লাহ ছাড় দেন কিন্তু ছেড়ে দেন না।\" \n",
      "Output ইসলাম রয়ে গেল। আল্লাহ পবিত্র কুরআনে বলেছেন ওয়ামা কারো ওয়ামাকারাল্লাহ আল্লাহ ছাড় দেন কিন্তু ছেড়ে দেন না।\n"
     ]
    }
   ],
   "source": [
    "text = '''ইসলাম রয়ে গেল। আল্লাহ পবিত্র কুরআনে বলেছেন ''ওয়ামা কারো ওয়ামাকারাল্লাহ'' আল্লাহ ছাড় দেন কিন্তু ছেড়ে দেন না।\"'''\n",
    "print(f\"Input: {text} \\nOutput {nrml.text_normalizer(text)}\")"
   ]
  },
  {
   "cell_type": "code",
   "execution_count": 13,
   "metadata": {},
   "outputs": [
    {
     "name": "stdout",
     "output_type": "stream",
     "text": [
      "Input: আজকের তাপমাত্রা ৪৪°F \n",
      "Output আজকের তাপমাত্রা চুয়াল্লিশ ডিগ্রী ফারেনহাইট\n"
     ]
    }
   ],
   "source": [
    "text = \"আজকের তাপমাত্রা ৪৪°F\"\n",
    "print(f\"Input: {text} \\nOutput {nrml.text_normalizer(text)}\")"
   ]
  },
  {
   "cell_type": "code",
   "execution_count": 14,
   "metadata": {},
   "outputs": [
    {
     "name": "stdout",
     "output_type": "stream",
     "text": [
      "Input: ৯৫% মুসলমানদের দেশ বাংলাদেশ \n",
      "Output পঁচানব্বই পারসেন্ট মুসলমানদের দেশ বাংলাদেশ\n"
     ]
    }
   ],
   "source": [
    "text = \"৯৫% মুসলমানদের দেশ বাংলাদেশ\"\n",
    "print(f\"Input: {text} \\nOutput {nrml.text_normalizer(text)}\")"
   ]
  },
  {
   "cell_type": "code",
   "execution_count": 15,
   "metadata": {},
   "outputs": [
    {
     "name": "stdout",
     "output_type": "stream",
     "text": [
      "Input: \"দয়া করে পবিত্র কুরআনুল কারিম বলেন,,,,পবিত্র কথাটা অবশ্যই বলবেন,,, প্লিজ 😢😥🙏🙏🙏\" \n",
      "Output \"দয়া করে পবিত্র কুরআনুল কারিম বলেন,,,,পবিত্র কথাটা অবশ্যই বলবেন,,, প্লিজ \"\n"
     ]
    }
   ],
   "source": [
    "text = '\"দয়া করে পবিত্র কুরআনুল কারিম বলেন,,,,পবিত্র কথাটা অবশ্যই বলবেন,,, প্লিজ 😢😥🙏🙏🙏\"'\n",
    "print(f\"Input: {text} \\nOutput {nrml.remove_emoji(text)}\")"
   ]
  },
  {
   "cell_type": "code",
   "execution_count": 16,
   "metadata": {},
   "outputs": [
    {
     "name": "stdout",
     "output_type": "stream",
     "text": [
      "Input: 😬😬 আর বিভিন্ন চ্যানেল সম্পর্কে কি বলব \n",
      "Output  আর বিভিন্ন চ্যানেল সম্পর্কে কি বলব\n"
     ]
    }
   ],
   "source": [
    "text = \"😬😬 আর বিভিন্ন চ্যানেল সম্পর্কে কি বলব\"\n",
    "print(f\"Input: {text} \\nOutput {nrml.remove_emoji(text)}\")"
   ]
  },
  {
   "cell_type": "code",
   "execution_count": 17,
   "metadata": {},
   "outputs": [
    {
     "data": {
      "text/plain": [
       "'উদাহরণস্বরূপ, আপনার মোটরযানের রেজিস্ট্রেশন নাম্বার ঢাকা মেট্রো গ বারো বারোবারো এবং টাকা জমা রশিদের ট্রানজেকশন নাম্বার দুই লক্ষ এক শত এক কোটি তেরো লক্ষ পঁচিশ হাজার নয় শত ঊননব্বই'"
      ]
     },
     "execution_count": 17,
     "metadata": {},
     "output_type": "execute_result"
    }
   ],
   "source": [
    "text = 'উদাহরণস্বরূপ, আপনার মোটরযানের রেজিস্ট্রেশন নাম্বার ঢাকা মেট্রো-গ-12-1212 এবং টাকা জমা রশিদের ট্রানজেকশন নাম্বার 2001011325989'\n",
    "nrml.text_normalizer(text)"
   ]
  },
  {
   "cell_type": "code",
   "execution_count": 18,
   "metadata": {},
   "outputs": [
    {
     "name": "stdout",
     "output_type": "stream",
     "text": [
      "No date found\n"
     ]
    }
   ],
   "source": [
    "nrml.date_extraction(text)"
   ]
  },
  {
   "cell_type": "code",
   "execution_count": 19,
   "metadata": {},
   "outputs": [
    {
     "name": "stdout",
     "output_type": "stream",
     "text": [
      "No date found\n"
     ]
    }
   ],
   "source": [
    "nrml.date_format(text)"
   ]
  },
  {
   "cell_type": "code",
   "execution_count": 20,
   "metadata": {},
   "outputs": [
    {
     "name": "stdout",
     "output_type": "stream",
     "text": [
      "চার শত তেষট্টি বাংলাদেশের পাসপোর্টের অভ্যন্তরে ইস্যু করানোর সময়ে নিয়মিত, জরুরী, এবং অতীব জরুরী বিতরণের ফি নিম্নলিখিত নিয়মিত বিতরণ আটচল্লিশ পৃষ্ঠা এবং দশ বছর মেয়াদ পাসপোর্ট ফি চার হাজার পঁচিশ টাকা জরুরী বিতরণ আটচল্লিশ পৃষ্ঠা এবং দশ বছর মেয়াদ পাসপোর্ট ফি ছয় হাজার তিন শত পঁচিশ টাকা অতীব জরুরী বিতরণ আটচল্লিশ পৃষ্ঠা এবং দশ বছর মেয়াদ পাসপোর্ট ফি আট হাজার ছয় শত পঁচিশ টাকা নিয়মিত বিতরণ চৌষট্টি পৃষ্ঠা এবং পাঁচ বছর মেয়াদ পাসপোর্ট ফি পাঁচ হাজার সাত শত পঞ্চাশ টাকা জরুরী বিতরণ চৌষট্টি পৃষ্ঠা এবং পাঁচ বছর মেয়াদ পাসপোর্ট ফি আট হাজার পঞ্চাশ টাকা অতীব জরুরী বিতরণ চৌষট্টি পৃষ্ঠা এবং পাঁচ বছর মেয়াদ পাসপোর্ট ফি দশ হাজার তিন শত পঞ্চাশ টাকা\n"
     ]
    }
   ],
   "source": [
    "text = \"463 বাংলাদেশের পাসপোর্টের অভ্যন্তরে ইস্যু করানোর সময়ে নিয়মিত, জরুরী, এবং অতীব জরুরী বিতরণের ফি নিম্নলিখিত: নিয়মিত বিতরণ (48 পৃষ্ঠা এবং 10 বছর মেয়াদ) পাসপোর্ট ফি: ৪,০২৫ টাকা জরুরী বিতরণ (48 পৃষ্ঠা এবং 10 বছর মেয়াদ) পাসপোর্ট ফি: ৬,৩২৫ টাকা অতীব জরুরী বিতরণ (48 পৃষ্ঠা এবং 10 বছর মেয়াদ) পাসপোর্ট ফি: ৮,৬২৫ টাকা নিয়মিত বিতরণ (64 পৃষ্ঠা এবং 5 বছর মেয়াদ) পাসপোর্ট ফি: ৫,৭৫০ টাকা জরুরী বিতরণ (64 পৃষ্ঠা এবং 5 বছর মেয়াদ) পাসপোর্ট ফি: ৮,০৫০ টাকা অতীব জরুরী বিতরণ (64 পৃষ্ঠা এবং 5 বছর মেয়াদ) পাসপোর্ট ফি: ১০,৩৫০ টাকা\"\n",
    "print(nrml.text_normalizer(text))"
   ]
  },
  {
   "cell_type": "code",
   "execution_count": 7,
   "metadata": {},
   "outputs": [
    {
     "name": "stdout",
     "output_type": "stream",
     "text": [
      "[{'date': '২৩', 'month': '৫', 'year': '২০২৪', 'txt_date': 'তেইশ', 'txt_month': 'মে', 'txt_year': 'দুই হাজার চব্বিশ', 'weekday': None, 'ls_month': 'ভাদ্র', 'seasons': 'শরৎ'}]\n"
     ]
    }
   ],
   "source": [
    "text = 'বাংলাদেশের পাসপোর্টের অভ্যন্তরে ইস্যু করানোর সময় 10/12/24'\n",
    "print(nrml.date_extraction(text))"
   ]
  },
  {
   "cell_type": "code",
   "execution_count": 6,
   "metadata": {},
   "outputs": [],
   "source": [
    "import pandas as pd\n",
    "\n",
    "df = pd.read_csv(\"../test_data/test_cases.csv\")"
   ]
  },
  {
   "cell_type": "code",
   "execution_count": 8,
   "metadata": {},
   "outputs": [],
   "source": [
    "def normalize(text):\n",
    "    return nrml.text_normalizer(nrml.remove_emoji(text))"
   ]
  },
  {
   "cell_type": "code",
   "execution_count": 9,
   "metadata": {},
   "outputs": [
    {
     "name": "stdout",
     "output_type": "stream",
     "text": [
      "ঢাকা মেট্রো-গ-12-1212\n",
      "ঢাকা মেট্রো-গ-12-1212\n"
     ]
    }
   ],
   "source": [
    "df['normalized'] = df['Raw'].apply(lambda x: normalize(x))"
   ]
  },
  {
   "cell_type": "code",
   "execution_count": 11,
   "metadata": {},
   "outputs": [
    {
     "name": "stdout",
     "output_type": "stream",
     "text": [
      "Collecting jiwer\n",
      "  Downloading jiwer-3.1.0-py3-none-any.whl.metadata (2.6 kB)\n",
      "Collecting click>=8.1.8 (from jiwer)\n",
      "  Downloading click-8.1.8-py3-none-any.whl.metadata (2.3 kB)\n",
      "Collecting rapidfuzz>=3.9.7 (from jiwer)\n",
      "  Downloading rapidfuzz-3.12.1-cp310-cp310-manylinux_2_17_x86_64.manylinux2014_x86_64.whl.metadata (11 kB)\n",
      "Downloading jiwer-3.1.0-py3-none-any.whl (22 kB)\n",
      "Downloading click-8.1.8-py3-none-any.whl (98 kB)\n",
      "\u001b[2K   \u001b[38;2;114;156;31m━━━━━━━━━━━━━━━━━━━━━━━━━━━━━━━━━━━━━━━━\u001b[0m \u001b[32m98.2/98.2 kB\u001b[0m \u001b[31m415.3 kB/s\u001b[0m eta \u001b[36m0:00:00\u001b[0m kB/s\u001b[0m eta \u001b[36m0:00:01\u001b[0m1\u001b[0mm\n",
      "\u001b[?25hDownloading rapidfuzz-3.12.1-cp310-cp310-manylinux_2_17_x86_64.manylinux2014_x86_64.whl (3.1 MB)\n",
      "\u001b[2K   \u001b[38;2;114;156;31m━━━━━━━━━━━━━━━━━━━━━━━━━━━━━━━━━━━━━━━━\u001b[0m \u001b[32m3.1/3.1 MB\u001b[0m \u001b[31m49.5 kB/s\u001b[0m eta \u001b[36m0:00:00\u001b[0mm eta \u001b[36m0:00:01\u001b[0m[36m0:00:02\u001b[0m\n",
      "\u001b[?25hInstalling collected packages: rapidfuzz, click, jiwer\n",
      "Successfully installed click-8.1.8 jiwer-3.1.0 rapidfuzz-3.12.1\n"
     ]
    }
   ],
   "source": [
    "!pip install jiwer"
   ]
  },
  {
   "cell_type": "code",
   "execution_count": 12,
   "metadata": {},
   "outputs": [],
   "source": [
    "from jiwer import wer, cer, mer\n",
    "\n",
    "def calculate_wer(reference, hypothesis):\n",
    "    return wer(reference, hypothesis)\n",
    "\n",
    "\n",
    "def calculate_cer(reference, hypothesis):\n",
    "    return cer(reference, hypothesis)\n",
    "\n",
    "\n",
    "def calculate_mer(reference, hypothesis):\n",
    "    return mer(reference, hypothesis)"
   ]
  },
  {
   "cell_type": "code",
   "execution_count": 13,
   "metadata": {},
   "outputs": [
    {
     "data": {
      "text/plain": [
       "Index(['Raw', 'Category', 'AI Correct', 'Human Corrected', 'normalized'], dtype='object')"
      ]
     },
     "execution_count": 13,
     "metadata": {},
     "output_type": "execute_result"
    }
   ],
   "source": [
    "df.columns"
   ]
  },
  {
   "cell_type": "code",
   "execution_count": 14,
   "metadata": {},
   "outputs": [],
   "source": [
    "df['WER'] = df.apply(lambda row: calculate_wer(row['Human Corrected'], row['normalized']), axis=1)\n",
    "df['CER'] = df.apply(lambda row: calculate_cer(row['Human Corrected'], row['normalized']), axis=1)\n",
    "df['MER'] = df.apply(lambda row: calculate_mer(row['Human Corrected'], row['normalized']), axis=1)"
   ]
  },
  {
   "cell_type": "code",
   "execution_count": 18,
   "metadata": {},
   "outputs": [
    {
     "name": "stdout",
     "output_type": "stream",
     "text": [
      "WER --> 0.12905804142495658\n",
      "CER --> 0.03186388143468171\n",
      "MER --> 0.097548083217171\n"
     ]
    }
   ],
   "source": [
    "print(f\"WER --> {df.WER.sum()/len(df)}\")\n",
    "print(f\"CER --> {df.CER.sum()/len(df)}\")\n",
    "print(f\"MER --> {df.MER.sum()/len(df)}\")"
   ]
  },
  {
   "cell_type": "code",
   "execution_count": 20,
   "metadata": {},
   "outputs": [],
   "source": [
    "df.to_json(\"../test_data/result.json\", orient=\"index\", force_ascii=False)"
   ]
  },
  {
   "cell_type": "code",
   "execution_count": 21,
   "metadata": {},
   "outputs": [],
   "source": [
    "df.to_csv(\"../test_data/result.csv\", index=False)"
   ]
  },
  {
   "cell_type": "code",
   "execution_count": null,
   "metadata": {},
   "outputs": [],
   "source": []
  }
 ],
 "metadata": {
  "kernelspec": {
   "display_name": "base",
   "language": "python",
   "name": "python3"
  },
  "language_info": {
   "codemirror_mode": {
    "name": "ipython",
    "version": 3
   },
   "file_extension": ".py",
   "mimetype": "text/x-python",
   "name": "python",
   "nbconvert_exporter": "python",
   "pygments_lexer": "ipython3",
   "version": "3.10.14"
  }
 },
 "nbformat": 4,
 "nbformat_minor": 4
}
